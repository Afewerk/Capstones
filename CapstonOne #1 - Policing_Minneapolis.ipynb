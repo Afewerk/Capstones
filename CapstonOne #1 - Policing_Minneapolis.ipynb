{
 "cells": [
  {
   "cell_type": "markdown",
   "metadata": {},
   "source": [
    "# Data Science - Minneapolis & St. Paul Public Safety  Analysis    Capstone Project"
   ]
  },
  {
   "cell_type": "markdown",
   "metadata": {},
   "source": [
    "Afewerk Nune, May 6th, 2019"
   ]
  },
  {
   "cell_type": "markdown",
   "metadata": {},
   "source": [
    "## I. Definition\n",
    "- ### Project Overivew"
   ]
  },
  {
   "cell_type": "markdown",
   "metadata": {},
   "source": [
    "It's not unusual to hear about police safety personal power usage, stop and frisk, gender, and racial biases through the overwhelming media available. That incident usually then followed by a response from police and relatives of the person stopped by the police. These social interactions have been with us for centuries but what changed this time, is the level of awareness and people’s tangible reaction to each incidents. The goal of this report is to quantify the past 910 days of data and clarify how and when the police stop data correlates with media and not.\n",
    "\n",
    "This report examines statistical Police stop data from 5 precincts in Minneapolis & St. Paul during Oct 31, 2016 to Apr 29, 2019. There are 119924 data points with 20 columns full of raw data. In this report we'll be using most of the columns to gain insight in to how public safety response, handling of each case, population demographics, and police use of power among certain groups. Furthermore, it also tests for racial bias, and neighborhoods using statistical methods and visualization plots.\n",
    "\n",
    "This data only focuses on www.minneaplicemn.gov reported data and not including how the data was collected or maintained. It is also possible that some agencies report only if there are injuries, potential injuries, or verbal complaints (of involved suspects or citizens) as a result of a confrontation."
   ]
  },
  {
   "cell_type": "markdown",
   "metadata": {},
   "source": [
    "- ### Problem Statement"
   ]
  },
  {
   "cell_type": "markdown",
   "metadata": {},
   "source": [
    "Problem to solve: Examine how each precinct police officers handled calls for given areas. Also test the data for bias in gender, race, economic and demographics. Give in-depth analysis of outliers and show predictions for future outcome."
   ]
  },
  {
   "cell_type": "markdown",
   "metadata": {},
   "source": [
    "## II. Analysis\n",
    "- ### Data Exploration"
   ]
  },
  {
   "cell_type": "code",
   "execution_count": 1,
   "metadata": {},
   "outputs": [],
   "source": [
    "import pandas as pd\n",
    "import numpy as np\n",
    "import matplotlib.pyplot as plt\n",
    "%matplotlib inline"
   ]
  },
  {
   "cell_type": "markdown",
   "metadata": {},
   "source": [
    "All of the top 3 libraries will be used in much of this project. The __pandas__ and __numpy__ library will be the most used because of the available tools and features for data analysis. The next one would be the plotting library __\"Matplotlib\"__ along with __\"%matplotlib inline\",__ which would be used to create visualizations for the select dataset. "
   ]
  },
  {
   "cell_type": "markdown",
   "metadata": {},
   "source": [
    "for these report, we're going to use a Policfor this project also downloaded from www.minneapolismn.gov/opendata"
   ]
  },
  {
   "cell_type": "code",
   "execution_count": 2,
   "metadata": {},
   "outputs": [
    {
     "name": "stdout",
     "output_type": "stream",
     "text": [
      "This dataset has 119924 raws, 19 columns and spans 910 days 00:00:00 days.\n"
     ]
    }
   ],
   "source": [
    "df = pd.DataFrame(pd.read_excel('data\\Police_stop_data.xlsx'))\n",
    "#Printing the shape of thid data\n",
    "Time_span = (df['responseDate'].max() - df['responseDate'].min());\n",
    "print('This dataset has {} raws, {} columns and spans {} days.'.format(df.shape[0], df.shape[1], Time_span))"
   ]
  },
  {
   "cell_type": "code",
   "execution_count": 3,
   "metadata": {},
   "outputs": [
    {
     "data": {
      "text/plain": [
       "Index(['OBJECTID', 'masterIncidentNumber', 'responseDate', 'Non-Usable',\n",
       "       'responseTime', 'responseCode', 'citationIssued', 'personSearch',\n",
       "       'vehicleSearch', 'preRace', 'race', 'gender', 'lat', 'long', 'x', 'y',\n",
       "       'policePrecinct', 'neighborhood', 'lastUpdateDate'],\n",
       "      dtype='object')"
      ]
     },
     "execution_count": 3,
     "metadata": {},
     "output_type": "execute_result"
    }
   ],
   "source": [
    "df.columns"
   ]
  },
  {
   "cell_type": "markdown",
   "metadata": {},
   "source": [
    "As we can see from above, we have responseDates, time, search type, race, gender, geolocation, pricinct, and neighbourhood data values we can work with for this analysis. PreRace, Race, gender and neighbourhood would be looked at in detail to give us insight about racial bias, gender disparity, and post stop actions taken by officers. "
   ]
  },
  {
   "cell_type": "code",
   "execution_count": 4,
   "metadata": {},
   "outputs": [
    {
     "data": {
      "text/plain": [
       "count    911.000000\n",
       "mean     131.639956\n",
       "std       38.932739\n",
       "min        7.000000\n",
       "25%      104.000000\n",
       "50%      129.000000\n",
       "75%      159.000000\n",
       "max      285.000000\n",
       "Name: responseDate, dtype: float64"
      ]
     },
     "execution_count": 4,
     "metadata": {},
     "output_type": "execute_result"
    }
   ],
   "source": [
    "#Lest see how the data points are populated using central tendency statistics\n",
    "df_race_mean = df['responseDate'].value_counts()\n",
    "df_race_mean.describe()"
   ]
  },
  {
   "cell_type": "markdown",
   "metadata": {},
   "source": [
    "It looks like there have been 911 days worth of police stops with in the 5 precincts. The minimum stops with in the given period is 7 stops and a maximum of 285 stops per day. The average of police stops is at 131 people per day. "
   ]
  },
  {
   "cell_type": "code",
   "execution_count": 5,
   "metadata": {},
   "outputs": [
    {
     "data": {
      "text/html": [
       "<div>\n",
       "<style scoped>\n",
       "    .dataframe tbody tr th:only-of-type {\n",
       "        vertical-align: middle;\n",
       "    }\n",
       "\n",
       "    .dataframe tbody tr th {\n",
       "        vertical-align: top;\n",
       "    }\n",
       "\n",
       "    .dataframe thead th {\n",
       "        text-align: right;\n",
       "    }\n",
       "</style>\n",
       "<table border=\"1\" class=\"dataframe\">\n",
       "  <thead>\n",
       "    <tr style=\"text-align: right;\">\n",
       "      <th></th>\n",
       "      <th>responseDate</th>\n",
       "      <th>average</th>\n",
       "    </tr>\n",
       "    <tr>\n",
       "      <th>policePrecinct</th>\n",
       "      <th></th>\n",
       "      <th></th>\n",
       "    </tr>\n",
       "  </thead>\n",
       "  <tbody>\n",
       "    <tr>\n",
       "      <th>1.0</th>\n",
       "      <td>19237</td>\n",
       "      <td>21.116356</td>\n",
       "    </tr>\n",
       "    <tr>\n",
       "      <th>2.0</th>\n",
       "      <td>23446</td>\n",
       "      <td>25.736553</td>\n",
       "    </tr>\n",
       "    <tr>\n",
       "      <th>3.0</th>\n",
       "      <td>21528</td>\n",
       "      <td>23.631175</td>\n",
       "    </tr>\n",
       "    <tr>\n",
       "      <th>4.0</th>\n",
       "      <td>28653</td>\n",
       "      <td>31.452250</td>\n",
       "    </tr>\n",
       "    <tr>\n",
       "      <th>5.0</th>\n",
       "      <td>25839</td>\n",
       "      <td>28.363337</td>\n",
       "    </tr>\n",
       "  </tbody>\n",
       "</table>\n",
       "</div>"
      ],
      "text/plain": [
       "                responseDate    average\n",
       "policePrecinct                         \n",
       "1.0                    19237  21.116356\n",
       "2.0                    23446  25.736553\n",
       "3.0                    21528  23.631175\n",
       "4.0                    28653  31.452250\n",
       "5.0                    25839  28.363337"
      ]
     },
     "execution_count": 5,
     "metadata": {},
     "output_type": "execute_result"
    }
   ],
   "source": [
    "grouped = pd.DataFrame(df.groupby('policePrecinct')['responseDate'].count())\n",
    "grouped['average'] = grouped['responseDate'] / 911\n",
    "#grouped.iloc[:,2]\n",
    "#grouped.set_index('responseDate').count()\n",
    "len(grouped)\n",
    "grouped"
   ]
  },
  {
   "cell_type": "code",
   "execution_count": 6,
   "metadata": {
    "scrolled": true
   },
   "outputs": [
    {
     "data": {
      "image/png": "[encoded data removed]",
      "text/plain": [
       "<matplotlib.figure.Figure at 0x8f00cd0>"
      ]
     },
     "metadata": {},
     "output_type": "display_data"
    }
   ],
   "source": [
    "#generating a pie chart with the data racial demographics\n",
    "Race = []\n",
    "Race.append(df['race'].value_counts())\n",
    "plt.figure(figsize=(10, 5))\n",
    "plt.pie(Race[0], autopct='%1.1f%%', shadow=True, startangle=140)\n",
    "plt.legend(Race[0].index, loc='upper right')\n",
    "plt.title('\\nFigure 1. Minneapolice Police Stop Data Analysis - Per Precinct and Race', size=15)\n",
    "plt.axis('equal');"
   ]
  },
  {
   "cell_type": "markdown",
   "metadata": {},
   "source": [
    "According to the 2018 national cences report[2], the Minnesota population demographics are Asians 5.1%, Blacks 6.4% ( including East African), Latinos 5.4%, Native Americans 1.4%, 84% White,..etc. According to this chart, there is more chance the police stops involved a Black person than any other race. \n",
    "\n",
    "This data also has 'Unknown' and 'Other' races that we can't quite put in to any of the known Asian, Black, East African, Latino, Native American, and White races. Because the reports from these catagories is large, we can't just ignore the implications of these percentage. To get the true racial catagories, we have to sum 'Black' & 'East African' and 'Unknown' & 'Other' and redraw the pie chart. "
   ]
  },
  {
   "cell_type": "code",
   "execution_count": 7,
   "metadata": {},
   "outputs": [
    {
     "data": {
      "image/png": "[encoded data removed]",
      "text/plain": [
       "<matplotlib.figure.Figure at 0xd0ff4b0>"
      ]
     },
     "metadata": {},
     "output_type": "display_data"
    }
   ],
   "source": [
    "#Adding similar indexes\n",
    "df1 = df\n",
    "df['race'] = df['race'].str.replace('Other','Unknown')\n",
    "df['race'] = df['race'].str.replace('East African','Black')\n",
    "fill = ['preRace','race', 'gender']\n",
    "df.update(df.fillna('Unknown', inplace=True))\n",
    "df.update(df.fillna('Black', inplace=True))\n",
    "\n",
    "#Create a new list and redraw the pie chart\n",
    "Race1 = []\n",
    "Race1.append(df['race'].value_counts())\n",
    "plt.figure(figsize=(10, 5))\n",
    "plt.pie(Race1[0], explode=(0.1,0.1,0.1,0.3,0.3,0.3),autopct='%1.1f%%', shadow=True, startangle=140)\n",
    "plt.legend(Race1[0].index, loc='upper right')\n",
    "plt.title('\\nFigure 2. Minneapolice Police Stop Data Analysis - groups updated', size=15)\n",
    "plt.axis('equal');"
   ]
  },
  {
   "cell_type": "markdown",
   "metadata": {},
   "source": [
    "This 2nd pie chart shows the data with 'Black' & 'East African' grouped as 'Black' and 'Unknown' & 'Other' grouped as 'Unknown'. The majority of police stop data still involves Blacks with greater proportion from all other races. In reality, the larger portion of Minnesota Black Population lives in with in Minneapolis & St. Paul areas but in no way is quite proportional to the disparity shown on the graph. The next group being stoped are the Unknown with 2.5% higher than the Black race. Since we don't have any insite in to this catagory, we can't say much about this group. \n",
    "\n",
    "According to the 2018 Cencus[2] data, the Black & Latino Races are 6.5% and 5.4% totally in Minnesota. On the other hand, the police Stop Data[1] in these 5 precincts show 34.2% and 3.5% for Blacks and Latinos. That is a 30.2% increase for Blacks and 2.0% reduction for Latinos when comparing to each other with respect to the total population percentage. \"Do two visializations of the cencus data side by side instead of the last analysis."
   ]
  },
  {
   "cell_type": "code",
   "execution_count": 8,
   "metadata": {},
   "outputs": [],
   "source": [
    "import plotly\n",
    "import plotly.plotly as py\n",
    "import plotly.graph_objs as go\n",
    "from plotly.offline import iplot\n",
    "plotly.tools.set_credentials_file(username='username', api_key='key')\n",
    "\n",
    "mapbox_access_token = 'TYPE YOUR TOKEN Here'\n",
    "\n",
    "#getting long and lat coordinates\n",
    "df2 = df.sample(50)\n",
    "lat = df2['lat'].values\n",
    "lon = df2['long'].values\n",
    "#neighbourhood = df['neighborhood'].unique()\n",
    "\n",
    "#scatter points and marker\n",
    "data = [go.Scattermapbox(lat = df['lat'], lon = df['long'], mode='markers',\n",
    "                         marker=dict(size=17, color='rgb(255,0,0)', opacity=0.7),\n",
    "                         #text=neighbourhood, hoverinfo='neighborhood'\n",
    "                        ),\n",
    "        go.Scattermapbox(lat = df['lat'], lon = df['long'], mode='markers',\n",
    "                         marker=dict(size=8, color='rgb(242, 177, 172)', opacity=0.7),\n",
    "                         #hoverinfo='none'\n",
    "                        ),\n",
    "       ]\n",
    "layout = go.Layout(title='Figure 2. Minneapolis Precincts 1 to 6 Police Stop data from 2016 to 2019',\n",
    "                   autosize=True, hovermode='closest', showlegend=False,\n",
    "                   mapbox=dict( accesstoken='mapbox_access_token'\n",
    "                               center=dict(lat=44.973252,lon=-93.260516),\n",
    "                                pitch=0,\n",
    "                                zoom=10 ),\n",
    ")\n",
    "\n",
    "fig = go.Figure(data=data, layout=layout)\n",
    "#py.iplot(fig, filename='Jupyter-MN Police Stop Data demographics');"
   ]
  },
  {
   "cell_type": "markdown",
   "metadata": {},
   "source": [
    "Incert plotly image here."
   ]
  },
  {
   "cell_type": "code",
   "execution_count": 14,
   "metadata": {},
   "outputs": [],
   "source": [
    "#Now le's plot a time series plots and analyse how the data collected populated throughout time.\n",
    "value_perdate = df.groupby(['race','responseDate'])['responseDate'].value_counts()\n",
    "precinct_01 = df.loc[df['policePrecinct'] == 1]\n",
    "y = df.loc[df['race'] == 'Black'].count()\n",
    "#value_perdate"
   ]
  },
  {
   "cell_type": "markdown",
   "metadata": {},
   "source": [
    "The above picture shows the 5 police precincts geographically and we can clearly tell precincts 3,4,5 are somewhat physically bigger than precinct 4 where the majority of the crime being reported by specifically blacks is significantly bigger than the higher of all precincts."
   ]
  },
  {
   "cell_type": "code",
   "execution_count": 10,
   "metadata": {
    "scrolled": true
   },
   "outputs": [
    {
     "data": {
      "image/png": "[encoded data removed]",
      "text/plain": [
       "<matplotlib.figure.Figure at 0xe2eaf10>"
      ]
     },
     "metadata": {
      "needs_background": "light"
     },
     "output_type": "display_data"
    }
   ],
   "source": [
    "#Now lets look at these race desparity per pricinct and neighbourhood\n",
    "plt.figure(figsize=(15,5))\n",
    "df.groupby('policePrecinct')['race'].value_counts().plot(kind='bar');\n",
    "plt.title('\\nFigure 2. Police Stop Data Analysis - Reported by Precinct & Race \\n', size=20)\n",
    "plt.ylabel('Number of stops' , size=15)\n",
    "plt.xlabel('\\n Precinct 1 to 5 police stop report by race' , size=15);"
   ]
  },
  {
   "cell_type": "markdown",
   "metadata": {},
   "source": [
    "These data revels more insight that we couldn't tell from the pie chart or the map. For District 2 and 5, a person of white race is more prone to be stopped than other races. It might also be because the white race is proportionally greater and the graph is just showing what is expected.\n",
    "\n",
    "The next big race with small percentage change is blacks, followed by East Africans. If we look at districts 1, 3, and 4, Black people are more frequently stopped than others followed by unknown and whites. For district 4 specifically, the ratio of blacks being stopped is so high, it’s the outlier for the entire police stop per race for all district. The next part is to get the actual probability rate for each race in different precincts. We can also see that, the Asian Race being stopped by police is much lower than any other race in all precincts."
   ]
  },
  {
   "cell_type": "markdown",
   "metadata": {},
   "source": [
    "Next, let's see how the data is shapped with in the 910 days period of time."
   ]
  },
  {
   "cell_type": "code",
   "execution_count": 11,
   "metadata": {},
   "outputs": [
    {
     "data": {
      "text/plain": [
       "0"
      ]
     },
     "execution_count": 11,
     "metadata": {},
     "output_type": "execute_result"
    }
   ],
   "source": [
    "df['race'].isna().sum()"
   ]
  },
  {
   "cell_type": "code",
   "execution_count": 12,
   "metadata": {},
   "outputs": [
    {
     "data": {
      "text/html": [
       "<div>\n",
       "<style scoped>\n",
       "    .dataframe tbody tr th:only-of-type {\n",
       "        vertical-align: middle;\n",
       "    }\n",
       "\n",
       "    .dataframe tbody tr th {\n",
       "        vertical-align: top;\n",
       "    }\n",
       "\n",
       "    .dataframe thead tr th {\n",
       "        text-align: left;\n",
       "    }\n",
       "\n",
       "    .dataframe thead tr:last-of-type th {\n",
       "        text-align: right;\n",
       "    }\n",
       "</style>\n",
       "<table border=\"1\" class=\"dataframe\">\n",
       "  <thead>\n",
       "    <tr>\n",
       "      <th></th>\n",
       "      <th colspan=\"6\" halign=\"left\">responseDate</th>\n",
       "      <th colspan=\"6\" halign=\"left\">neighborhood</th>\n",
       "    </tr>\n",
       "    <tr>\n",
       "      <th></th>\n",
       "      <th>count</th>\n",
       "      <th>unique</th>\n",
       "      <th>top</th>\n",
       "      <th>freq</th>\n",
       "      <th>first</th>\n",
       "      <th>last</th>\n",
       "      <th>count</th>\n",
       "      <th>unique</th>\n",
       "      <th>top</th>\n",
       "      <th>freq</th>\n",
       "      <th>first</th>\n",
       "      <th>last</th>\n",
       "    </tr>\n",
       "    <tr>\n",
       "      <th>race</th>\n",
       "      <th></th>\n",
       "      <th></th>\n",
       "      <th></th>\n",
       "      <th></th>\n",
       "      <th></th>\n",
       "      <th></th>\n",
       "      <th></th>\n",
       "      <th></th>\n",
       "      <th></th>\n",
       "      <th></th>\n",
       "      <th></th>\n",
       "      <th></th>\n",
       "    </tr>\n",
       "  </thead>\n",
       "  <tbody>\n",
       "    <tr>\n",
       "      <th>Asian</th>\n",
       "      <td>1473</td>\n",
       "      <td>710</td>\n",
       "      <td>2018-07-19 00:00:00</td>\n",
       "      <td>10</td>\n",
       "      <td>2016-11-01 00:00:00</td>\n",
       "      <td>2019-04-29 00:00:00</td>\n",
       "      <td>1473</td>\n",
       "      <td>83</td>\n",
       "      <td>Marcy Holmes</td>\n",
       "      <td>102</td>\n",
       "      <td>NaN</td>\n",
       "      <td>NaN</td>\n",
       "    </tr>\n",
       "    <tr>\n",
       "      <th>Black</th>\n",
       "      <td>40974</td>\n",
       "      <td>911</td>\n",
       "      <td>2017-03-31 00:00:00</td>\n",
       "      <td>102</td>\n",
       "      <td>2016-10-31 00:00:00</td>\n",
       "      <td>2019-04-29 00:00:00</td>\n",
       "      <td>40974</td>\n",
       "      <td>88</td>\n",
       "      <td>Downtown West</td>\n",
       "      <td>4303</td>\n",
       "      <td>NaN</td>\n",
       "      <td>NaN</td>\n",
       "    </tr>\n",
       "    <tr>\n",
       "      <th>Latino</th>\n",
       "      <td>4222</td>\n",
       "      <td>889</td>\n",
       "      <td>2017-04-11 00:00:00</td>\n",
       "      <td>16</td>\n",
       "      <td>2016-11-01 00:00:00</td>\n",
       "      <td>2019-04-29 00:00:00</td>\n",
       "      <td>4222</td>\n",
       "      <td>87</td>\n",
       "      <td>Whittier</td>\n",
       "      <td>366</td>\n",
       "      <td>NaN</td>\n",
       "      <td>NaN</td>\n",
       "    </tr>\n",
       "    <tr>\n",
       "      <th>Native American</th>\n",
       "      <td>3048</td>\n",
       "      <td>846</td>\n",
       "      <td>2017-08-24 00:00:00</td>\n",
       "      <td>14</td>\n",
       "      <td>2016-11-01 00:00:00</td>\n",
       "      <td>2019-04-28 00:00:00</td>\n",
       "      <td>3048</td>\n",
       "      <td>79</td>\n",
       "      <td>East Phillips</td>\n",
       "      <td>648</td>\n",
       "      <td>NaN</td>\n",
       "      <td>NaN</td>\n",
       "    </tr>\n",
       "    <tr>\n",
       "      <th>Unknown</th>\n",
       "      <td>43994</td>\n",
       "      <td>911</td>\n",
       "      <td>2017-09-22 00:00:00</td>\n",
       "      <td>99</td>\n",
       "      <td>2016-10-31 00:00:00</td>\n",
       "      <td>2019-04-29 00:00:00</td>\n",
       "      <td>43994</td>\n",
       "      <td>88</td>\n",
       "      <td>Downtown West</td>\n",
       "      <td>4349</td>\n",
       "      <td>NaN</td>\n",
       "      <td>NaN</td>\n",
       "    </tr>\n",
       "    <tr>\n",
       "      <th>White</th>\n",
       "      <td>26213</td>\n",
       "      <td>910</td>\n",
       "      <td>2018-07-19 00:00:00</td>\n",
       "      <td>85</td>\n",
       "      <td>2016-11-01 00:00:00</td>\n",
       "      <td>2019-04-29 00:00:00</td>\n",
       "      <td>26213</td>\n",
       "      <td>88</td>\n",
       "      <td>Downtown West</td>\n",
       "      <td>2102</td>\n",
       "      <td>NaN</td>\n",
       "      <td>NaN</td>\n",
       "    </tr>\n",
       "  </tbody>\n",
       "</table>\n",
       "</div>"
      ],
      "text/plain": [
       "                responseDate                                   \\\n",
       "                       count unique                  top freq   \n",
       "race                                                            \n",
       "Asian                   1473    710  2018-07-19 00:00:00   10   \n",
       "Black                  40974    911  2017-03-31 00:00:00  102   \n",
       "Latino                  4222    889  2017-04-11 00:00:00   16   \n",
       "Native American         3048    846  2017-08-24 00:00:00   14   \n",
       "Unknown                43994    911  2017-09-22 00:00:00   99   \n",
       "White                  26213    910  2018-07-19 00:00:00   85   \n",
       "\n",
       "                                                          neighborhood         \\\n",
       "                               first                 last        count unique   \n",
       "race                                                                            \n",
       "Asian            2016-11-01 00:00:00  2019-04-29 00:00:00         1473     83   \n",
       "Black            2016-10-31 00:00:00  2019-04-29 00:00:00        40974     88   \n",
       "Latino           2016-11-01 00:00:00  2019-04-29 00:00:00         4222     87   \n",
       "Native American  2016-11-01 00:00:00  2019-04-28 00:00:00         3048     79   \n",
       "Unknown          2016-10-31 00:00:00  2019-04-29 00:00:00        43994     88   \n",
       "White            2016-11-01 00:00:00  2019-04-29 00:00:00        26213     88   \n",
       "\n",
       "                                                 \n",
       "                           top  freq first last  \n",
       "race                                             \n",
       "Asian             Marcy Holmes   102   NaN  NaN  \n",
       "Black            Downtown West  4303   NaN  NaN  \n",
       "Latino                Whittier   366   NaN  NaN  \n",
       "Native American  East Phillips   648   NaN  NaN  \n",
       "Unknown          Downtown West  4349   NaN  NaN  \n",
       "White            Downtown West  2102   NaN  NaN  "
      ]
     },
     "execution_count": 12,
     "metadata": {},
     "output_type": "execute_result"
    }
   ],
   "source": [
    "time_series = df.groupby('race')['responseDate','neighborhood'].describe()\n",
    "time_series"
   ]
  },
  {
   "cell_type": "markdown",
   "metadata": {},
   "source": [
    "### Table 1. Population distribution grouped by race, responseDate and neighborhood"
   ]
  },
  {
   "cell_type": "markdown",
   "metadata": {},
   "source": [
    "The above table is a summary of the police data per race, date of response and citation issued or not. The report shows that the max values Black, Unknown, and White are 400% higher than that of Asian, East African, Latino, Native American, and Other values. We kow that East African decents are also considered that of Black race and we have to add the two to see the real value per race. Following that, we have to see the minority catagoreis percentage to that of White, Other, and Unknown race."
   ]
  },
  {
   "cell_type": "code",
   "execution_count": 13,
   "metadata": {},
   "outputs": [
    {
     "data": {
      "text/html": [
       "<div>\n",
       "<style scoped>\n",
       "    .dataframe tbody tr th:only-of-type {\n",
       "        vertical-align: middle;\n",
       "    }\n",
       "\n",
       "    .dataframe tbody tr th {\n",
       "        vertical-align: top;\n",
       "    }\n",
       "\n",
       "    .dataframe thead th {\n",
       "        text-align: right;\n",
       "    }\n",
       "</style>\n",
       "<table border=\"1\" class=\"dataframe\">\n",
       "  <thead>\n",
       "    <tr style=\"text-align: right;\">\n",
       "      <th></th>\n",
       "      <th>Racial</th>\n",
       "      <th>MN_Pop (%)</th>\n",
       "      <th>div_cooficient</th>\n",
       "      <th>pop_percentages (%)</th>\n",
       "      <th>expected_pop</th>\n",
       "      <th>expected_pop_percentage (%)</th>\n",
       "    </tr>\n",
       "    <tr>\n",
       "      <th>race</th>\n",
       "      <th></th>\n",
       "      <th></th>\n",
       "      <th></th>\n",
       "      <th></th>\n",
       "      <th></th>\n",
       "      <th></th>\n",
       "    </tr>\n",
       "  </thead>\n",
       "  <tbody>\n",
       "    <tr>\n",
       "      <th>Asian</th>\n",
       "      <td>1473</td>\n",
       "      <td>5.1</td>\n",
       "      <td>0.012283</td>\n",
       "      <td>1.228278</td>\n",
       "      <td>611612.4</td>\n",
       "      <td>7512.3</td>\n",
       "    </tr>\n",
       "    <tr>\n",
       "      <th>Black</th>\n",
       "      <td>40974</td>\n",
       "      <td>6.5</td>\n",
       "      <td>0.341666</td>\n",
       "      <td>34.166639</td>\n",
       "      <td>779506.0</td>\n",
       "      <td>266331.0</td>\n",
       "    </tr>\n",
       "    <tr>\n",
       "      <th>Latino</th>\n",
       "      <td>4222</td>\n",
       "      <td>5.4</td>\n",
       "      <td>0.035206</td>\n",
       "      <td>3.520563</td>\n",
       "      <td>647589.6</td>\n",
       "      <td>22798.8</td>\n",
       "    </tr>\n",
       "    <tr>\n",
       "      <th>Native American</th>\n",
       "      <td>3048</td>\n",
       "      <td>1.5</td>\n",
       "      <td>0.025416</td>\n",
       "      <td>2.541610</td>\n",
       "      <td>179886.0</td>\n",
       "      <td>4572.0</td>\n",
       "    </tr>\n",
       "    <tr>\n",
       "      <th>Unknown</th>\n",
       "      <td>43994</td>\n",
       "      <td>2.5</td>\n",
       "      <td>0.366849</td>\n",
       "      <td>36.684900</td>\n",
       "      <td>299810.0</td>\n",
       "      <td>109985.0</td>\n",
       "    </tr>\n",
       "    <tr>\n",
       "      <th>White</th>\n",
       "      <td>26213</td>\n",
       "      <td>84.4</td>\n",
       "      <td>0.218580</td>\n",
       "      <td>21.858010</td>\n",
       "      <td>10121585.6</td>\n",
       "      <td>2212377.2</td>\n",
       "    </tr>\n",
       "  </tbody>\n",
       "</table>\n",
       "</div>"
      ],
      "text/plain": [
       "                 Racial  MN_Pop (%)  div_cooficient  pop_percentages (%)  \\\n",
       "race                                                                       \n",
       "Asian              1473         5.1        0.012283             1.228278   \n",
       "Black             40974         6.5        0.341666            34.166639   \n",
       "Latino             4222         5.4        0.035206             3.520563   \n",
       "Native American    3048         1.5        0.025416             2.541610   \n",
       "Unknown           43994         2.5        0.366849            36.684900   \n",
       "White             26213        84.4        0.218580            21.858010   \n",
       "\n",
       "                 expected_pop  expected_pop_percentage (%)  \n",
       "race                                                        \n",
       "Asian                611612.4                       7512.3  \n",
       "Black                779506.0                     266331.0  \n",
       "Latino               647589.6                      22798.8  \n",
       "Native American      179886.0                       4572.0  \n",
       "Unknown              299810.0                     109985.0  \n",
       "White              10121585.6                    2212377.2  "
      ]
     },
     "execution_count": 13,
     "metadata": {},
     "output_type": "execute_result"
    }
   ],
   "source": [
    "percentages = pd.DataFrame()\n",
    "df1 =df.groupby('race').count()\n",
    "percentages['Racial'] = df1['responseDate'][[0,1,2,3,4,5]]\n",
    "percentages['MN_Pop (%)'] = [5.1,6.5,5.4,1.5,2.5,84.4] \n",
    "percentages.index = df1.index \n",
    "percentages['div_cooficient'] = percentages['Racial'] / percentages['Racial'].sum()\n",
    "percentages['pop_percentages (%)'] = percentages['div_cooficient'] * 100\n",
    "percentages['expected_pop'] = round((percentages['MN_Pop (%)'] * percentages['Racial'].sum()), 2)\n",
    "percentages['expected_pop_percentage (%)'] = (percentages['pop_percentages (%)']/100) * percentages['expected_pop']\n",
    "percentages"
   ]
  },
  {
   "cell_type": "markdown",
   "metadata": {},
   "source": [
    "### Table 2. Population count from 2018 census report and proportional comparison to police stop data report"
   ]
  },
  {
   "cell_type": "markdown",
   "metadata": {},
   "source": [
    "## III. Methodology"
   ]
  },
  {
   "cell_type": "markdown",
   "metadata": {},
   "source": [
    "- ### Getting the data & Data Processing"
   ]
  },
  {
   "cell_type": "markdown",
   "metadata": {},
   "source": [
    "The data is collected from the www.minneapolismn.gov/opendata readily available for public at anytime. Although there are multiple formats available to download, excel format is used for this report. \n",
    "\n",
    "The responseDate column had data, time, and code at first. Since there is only one time data in the response date, the time values have been dropped from analysis. The codes 'T' & '000Z' have been placed at the beggining & end of the responseDate time values also have been dropped. \n",
    "\n",
    "For manupulation data numpy padas, and matplotlib libraries have been used to calculate, analyze and plots for visualizations. The data is fed using pandas Dataframe module and used throughtout the code.  "
   ]
  },
  {
   "cell_type": "markdown",
   "metadata": {},
   "source": [
    "## IV. Results and Conclusions"
   ]
  },
  {
   "cell_type": "markdown",
   "metadata": {},
   "source": [
    "The findings on these report ranges varies based on "
   ]
  },
  {
   "cell_type": "markdown",
   "metadata": {},
   "source": [
    "## V. Future Improvements"
   ]
  },
  {
   "cell_type": "markdown",
   "metadata": {},
   "source": [
    "This report could be well presented using more visualizations and tables of values either calculated or grouped. More probability calculations would help readers grasp the data better if computed for each neighborhoods, race, gender, ethnicity and age groups. In this report the major calculations done are central tendency's, percentages, and probabilities. With umple time and technical development, the listed values could be more elaborated to give insite in to the broader Minnesota and not only the 5 precincts. "
   ]
  },
  {
   "cell_type": "markdown",
   "metadata": {},
   "source": [
    "## References"
   ]
  },
  {
   "cell_type": "markdown",
   "metadata": {},
   "source": [
    "1. Opendata.mninneapolismn.gov. (2019). Police Stop Data. [online] Available at: http://opendata.minneapolismn.gov/datasets/police-stop-data [Accessed 28 Apr. 2019]."
   ]
  },
  {
   "cell_type": "markdown",
   "metadata": {},
   "source": [
    "2. Census Bureau QuickFacts. (2019). U.S. Census Bureau QuickFacts: Minnesota. [online] Available at: https://www.census.gov/quickfacts/fact/table/mn/PST045218 [Accessed 3 May 2019]."
   ]
  },
  {
   "cell_type": "code",
   "execution_count": null,
   "metadata": {},
   "outputs": [],
   "source": []
  }
 ],
 "metadata": {
  "kernelspec": {
   "display_name": "Python 3",
   "language": "python",
   "name": "python3"
  },
  "language_info": {
   "codemirror_mode": {
    "name": "ipython",
    "version": 3
   },
   "file_extension": ".py",
   "mimetype": "text/x-python",
   "name": "python",
   "nbconvert_exporter": "python",
   "pygments_lexer": "ipython3",
   "version": "3.6.7"
  }
 },
 "nbformat": 4,
 "nbformat_minor": 2
}
