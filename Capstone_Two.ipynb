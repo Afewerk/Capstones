{
 "cells": [
  {
   "cell_type": "markdown",
   "metadata": {},
   "source": [
    "# Is Crime Rate Rising in US?"
   ]
  },
  {
   "cell_type": "markdown",
   "metadata": {},
   "source": [
    "Afewerk Nune, Jul 3rd, 2019"
   ]
  },
  {
   "cell_type": "markdown",
   "metadata": {},
   "source": [
    "# Table of Contenst\n",
    "[1.0 Background](#1.0_Background)<br>\n",
    "[2.0 Analysis](#2.0_Analysis)<br>\n",
    "[3.0 Methodology](#3.0_Methodology)<br>\n",
    "[4.0 Evaluation](#4.0_Evaluation)<br>\n",
    "[5.0 Conclusion & Future Improvements](#5.0_Conclusion_&_Future_Improvements)<br> \n",
    "[References](#References)<br>"
   ]
  },
  {
   "cell_type": "markdown",
   "metadata": {},
   "source": [
    "## 1.0 Background <a name=\"1.0_Background\"/><a> "
   ]
  },
  {
   "cell_type": "markdown",
   "metadata": {},
   "source": [
    "Is crime rate rising in America? In order to answer this question, we use the FBI crime data collected from the country’s more than 18,000 police agencies. The data has annual reports from 1975 to 2015 including year, agency jurisdiction, crime, homicide, crime_percapita and homicide_percapita. We'll use this columns to explore and answer the question of whether crime rate in US is increasing or not. \n",
    "\n",
    "\n",
    "Important message from the website that may or may not affect the outcome of this analysis. \n",
    "\n",
    "\"Acknowledgements\n",
    "The crime data was acquired from the FBI Uniform Crime Reporting program's \"Offenses Known and Clearances by Arrest\" database for the year in question, held at the National Archives of Criminal Justice Data. The data was compiled and analyzed by Gabriel Dance, Tom Meagher, and Emily Hopkins of The Marshall Project; the analysis was published as Crime \n"
   ]
  },
  {
   "cell_type": "code",
   "execution_count": 2,
   "metadata": {},
   "outputs": [],
   "source": [
    "#Importing major libraries\n",
    "%matplotlib inline\n",
    "import pandas as pd\n",
    "import numpy as np\n",
    "import seaborn as sns\n",
    "from matplotlib import pyplot as plt\n",
    "from scipy import stats\n",
    "from tabulate import tabulate"
   ]
  },
  {
   "cell_type": "markdown",
   "metadata": {},
   "source": [
    "Here is the crime-report data which was collected from Keggel[1] we're going to use for this project"
   ]
  },
  {
   "cell_type": "code",
   "execution_count": 3,
   "metadata": {},
   "outputs": [
    {
     "name": "stdout",
     "output_type": "stream",
     "text": [
      "\n",
      " The dataframe consists of 2829 number rows and 15 number of columns\n",
      "The top 10 rows of the data looks like this\n"
     ]
    },
    {
     "data": {
      "text/html": [
       "<div>\n",
       "<style scoped>\n",
       "    .dataframe tbody tr th:only-of-type {\n",
       "        vertical-align: middle;\n",
       "    }\n",
       "\n",
       "    .dataframe tbody tr th {\n",
       "        vertical-align: top;\n",
       "    }\n",
       "\n",
       "    .dataframe thead th {\n",
       "        text-align: right;\n",
       "    }\n",
       "</style>\n",
       "<table border=\"1\" class=\"dataframe\">\n",
       "  <thead>\n",
       "    <tr style=\"text-align: right;\">\n",
       "      <th></th>\n",
       "      <th>report_year</th>\n",
       "      <th>agency_code</th>\n",
       "      <th>agency_jurisdiction</th>\n",
       "      <th>population</th>\n",
       "      <th>violent_crimes</th>\n",
       "      <th>homicides</th>\n",
       "      <th>rapes</th>\n",
       "      <th>assaults</th>\n",
       "      <th>robberies</th>\n",
       "      <th>months_reported</th>\n",
       "      <th>crimes_percapita</th>\n",
       "      <th>homicides_percapita</th>\n",
       "      <th>rapes_percapita</th>\n",
       "      <th>assaults_percapita</th>\n",
       "      <th>robberies_percapita</th>\n",
       "    </tr>\n",
       "  </thead>\n",
       "  <tbody>\n",
       "    <tr>\n",
       "      <th>0</th>\n",
       "      <td>1975</td>\n",
       "      <td>NM00101</td>\n",
       "      <td>Albuquerque, NM</td>\n",
       "      <td>286238.0</td>\n",
       "      <td>2383.0</td>\n",
       "      <td>30.0</td>\n",
       "      <td>181.0</td>\n",
       "      <td>1353.0</td>\n",
       "      <td>819.0</td>\n",
       "      <td>12.0</td>\n",
       "      <td>832.52</td>\n",
       "      <td>10.48</td>\n",
       "      <td>63.23</td>\n",
       "      <td>472.68</td>\n",
       "      <td>286.13</td>\n",
       "    </tr>\n",
       "    <tr>\n",
       "      <th>1</th>\n",
       "      <td>1975</td>\n",
       "      <td>TX22001</td>\n",
       "      <td>Arlington, TX</td>\n",
       "      <td>112478.0</td>\n",
       "      <td>278.0</td>\n",
       "      <td>5.0</td>\n",
       "      <td>28.0</td>\n",
       "      <td>132.0</td>\n",
       "      <td>113.0</td>\n",
       "      <td>12.0</td>\n",
       "      <td>247.16</td>\n",
       "      <td>4.45</td>\n",
       "      <td>24.89</td>\n",
       "      <td>117.36</td>\n",
       "      <td>100.46</td>\n",
       "    </tr>\n",
       "    <tr>\n",
       "      <th>2</th>\n",
       "      <td>1975</td>\n",
       "      <td>GAAPD00</td>\n",
       "      <td>Atlanta, GA</td>\n",
       "      <td>490584.0</td>\n",
       "      <td>8033.0</td>\n",
       "      <td>185.0</td>\n",
       "      <td>443.0</td>\n",
       "      <td>3518.0</td>\n",
       "      <td>3887.0</td>\n",
       "      <td>12.0</td>\n",
       "      <td>1637.44</td>\n",
       "      <td>37.71</td>\n",
       "      <td>90.30</td>\n",
       "      <td>717.10</td>\n",
       "      <td>792.32</td>\n",
       "    </tr>\n",
       "    <tr>\n",
       "      <th>3</th>\n",
       "      <td>1975</td>\n",
       "      <td>CO00101</td>\n",
       "      <td>Aurora, CO</td>\n",
       "      <td>116656.0</td>\n",
       "      <td>611.0</td>\n",
       "      <td>7.0</td>\n",
       "      <td>44.0</td>\n",
       "      <td>389.0</td>\n",
       "      <td>171.0</td>\n",
       "      <td>12.0</td>\n",
       "      <td>523.76</td>\n",
       "      <td>6.00</td>\n",
       "      <td>37.72</td>\n",
       "      <td>333.46</td>\n",
       "      <td>146.58</td>\n",
       "    </tr>\n",
       "    <tr>\n",
       "      <th>4</th>\n",
       "      <td>1975</td>\n",
       "      <td>TX22701</td>\n",
       "      <td>Austin, TX</td>\n",
       "      <td>300400.0</td>\n",
       "      <td>1215.0</td>\n",
       "      <td>33.0</td>\n",
       "      <td>190.0</td>\n",
       "      <td>463.0</td>\n",
       "      <td>529.0</td>\n",
       "      <td>12.0</td>\n",
       "      <td>404.46</td>\n",
       "      <td>10.99</td>\n",
       "      <td>63.25</td>\n",
       "      <td>154.13</td>\n",
       "      <td>176.10</td>\n",
       "    </tr>\n",
       "    <tr>\n",
       "      <th>5</th>\n",
       "      <td>1975</td>\n",
       "      <td>MD00301</td>\n",
       "      <td>Baltimore County, MD</td>\n",
       "      <td>642154.0</td>\n",
       "      <td>1259.0</td>\n",
       "      <td>25.0</td>\n",
       "      <td>137.0</td>\n",
       "      <td>347.0</td>\n",
       "      <td>750.0</td>\n",
       "      <td>12.0</td>\n",
       "      <td>196.06</td>\n",
       "      <td>3.89</td>\n",
       "      <td>21.33</td>\n",
       "      <td>54.04</td>\n",
       "      <td>116.79</td>\n",
       "    </tr>\n",
       "    <tr>\n",
       "      <th>6</th>\n",
       "      <td>1975</td>\n",
       "      <td>MDBPD00</td>\n",
       "      <td>Baltimore, MD</td>\n",
       "      <td>864100.0</td>\n",
       "      <td>16086.0</td>\n",
       "      <td>259.0</td>\n",
       "      <td>463.0</td>\n",
       "      <td>6309.0</td>\n",
       "      <td>9055.0</td>\n",
       "      <td>12.0</td>\n",
       "      <td>1861.59</td>\n",
       "      <td>29.97</td>\n",
       "      <td>53.58</td>\n",
       "      <td>730.12</td>\n",
       "      <td>1047.91</td>\n",
       "    </tr>\n",
       "    <tr>\n",
       "      <th>7</th>\n",
       "      <td>1975</td>\n",
       "      <td>MA01301</td>\n",
       "      <td>Boston, MA</td>\n",
       "      <td>616120.0</td>\n",
       "      <td>11386.0</td>\n",
       "      <td>119.0</td>\n",
       "      <td>453.0</td>\n",
       "      <td>3036.0</td>\n",
       "      <td>7778.0</td>\n",
       "      <td>12.0</td>\n",
       "      <td>1848.02</td>\n",
       "      <td>19.31</td>\n",
       "      <td>73.52</td>\n",
       "      <td>492.76</td>\n",
       "      <td>1262.42</td>\n",
       "    </tr>\n",
       "    <tr>\n",
       "      <th>8</th>\n",
       "      <td>1975</td>\n",
       "      <td>NY01401</td>\n",
       "      <td>Buffalo, NY</td>\n",
       "      <td>422276.0</td>\n",
       "      <td>3350.0</td>\n",
       "      <td>63.0</td>\n",
       "      <td>192.0</td>\n",
       "      <td>755.0</td>\n",
       "      <td>2340.0</td>\n",
       "      <td>12.0</td>\n",
       "      <td>793.32</td>\n",
       "      <td>14.92</td>\n",
       "      <td>45.47</td>\n",
       "      <td>178.79</td>\n",
       "      <td>554.14</td>\n",
       "    </tr>\n",
       "    <tr>\n",
       "      <th>9</th>\n",
       "      <td>1975</td>\n",
       "      <td>NC06001</td>\n",
       "      <td>Charlotte, NC</td>\n",
       "      <td>262103.0</td>\n",
       "      <td>1937.0</td>\n",
       "      <td>68.0</td>\n",
       "      <td>71.0</td>\n",
       "      <td>976.0</td>\n",
       "      <td>822.0</td>\n",
       "      <td>12.0</td>\n",
       "      <td>739.02</td>\n",
       "      <td>25.94</td>\n",
       "      <td>27.09</td>\n",
       "      <td>372.37</td>\n",
       "      <td>313.62</td>\n",
       "    </tr>\n",
       "  </tbody>\n",
       "</table>\n",
       "</div>"
      ],
      "text/plain": [
       "   report_year agency_code   agency_jurisdiction  population  violent_crimes  \\\n",
       "0         1975     NM00101       Albuquerque, NM    286238.0          2383.0   \n",
       "1         1975     TX22001         Arlington, TX    112478.0           278.0   \n",
       "2         1975     GAAPD00           Atlanta, GA    490584.0          8033.0   \n",
       "3         1975     CO00101            Aurora, CO    116656.0           611.0   \n",
       "4         1975     TX22701            Austin, TX    300400.0          1215.0   \n",
       "5         1975     MD00301  Baltimore County, MD    642154.0          1259.0   \n",
       "6         1975     MDBPD00         Baltimore, MD    864100.0         16086.0   \n",
       "7         1975     MA01301            Boston, MA    616120.0         11386.0   \n",
       "8         1975     NY01401           Buffalo, NY    422276.0          3350.0   \n",
       "9         1975     NC06001         Charlotte, NC    262103.0          1937.0   \n",
       "\n",
       "   homicides  rapes  assaults  robberies  months_reported  crimes_percapita  \\\n",
       "0       30.0  181.0    1353.0      819.0             12.0            832.52   \n",
       "1        5.0   28.0     132.0      113.0             12.0            247.16   \n",
       "2      185.0  443.0    3518.0     3887.0             12.0           1637.44   \n",
       "3        7.0   44.0     389.0      171.0             12.0            523.76   \n",
       "4       33.0  190.0     463.0      529.0             12.0            404.46   \n",
       "5       25.0  137.0     347.0      750.0             12.0            196.06   \n",
       "6      259.0  463.0    6309.0     9055.0             12.0           1861.59   \n",
       "7      119.0  453.0    3036.0     7778.0             12.0           1848.02   \n",
       "8       63.0  192.0     755.0     2340.0             12.0            793.32   \n",
       "9       68.0   71.0     976.0      822.0             12.0            739.02   \n",
       "\n",
       "   homicides_percapita  rapes_percapita  assaults_percapita  \\\n",
       "0                10.48            63.23              472.68   \n",
       "1                 4.45            24.89              117.36   \n",
       "2                37.71            90.30              717.10   \n",
       "3                 6.00            37.72              333.46   \n",
       "4                10.99            63.25              154.13   \n",
       "5                 3.89            21.33               54.04   \n",
       "6                29.97            53.58              730.12   \n",
       "7                19.31            73.52              492.76   \n",
       "8                14.92            45.47              178.79   \n",
       "9                25.94            27.09              372.37   \n",
       "\n",
       "   robberies_percapita  \n",
       "0               286.13  \n",
       "1               100.46  \n",
       "2               792.32  \n",
       "3               146.58  \n",
       "4               176.10  \n",
       "5               116.79  \n",
       "6              1047.91  \n",
       "7              1262.42  \n",
       "8               554.14  \n",
       "9               313.62  "
      ]
     },
     "execution_count": 3,
     "metadata": {},
     "output_type": "execute_result"
    }
   ],
   "source": [
    "PATH = 'https://raw.githubusercontent.com/Afewerk/Data-Science/master/report.csv'\n",
    "df = pd.read_csv(PATH)\n",
    "print(\"\\n The dataframe consists of {} number rows and {} number of columns\".format(df.shape[0], df.shape[1]))\n",
    "\n",
    "print(\"The top 10 rows of the data looks like this\")\n",
    "df.head(10)"
   ]
  },
  {
   "cell_type": "markdown",
   "metadata": {},
   "source": [
    "## 2.0 Analysis <a name=\"2.0_Analysis\"/><a> "
   ]
  },
  {
   "cell_type": "code",
   "execution_count": 6,
   "metadata": {},
   "outputs": [
    {
     "name": "stdout",
     "output_type": "stream",
     "text": [
      "\n",
      " The report time median that we're going to use to break the samples is  1995.0\n"
     ]
    }
   ],
   "source": [
    "mid_year = df['report_year'].median()\n",
    "print(\"\\n The report time median that we're going to use to break the samples is \", mid_year)"
   ]
  },
  {
   "cell_type": "code",
   "execution_count": 45,
   "metadata": {},
   "outputs": [
    {
     "data": {
      "image/png": "[encoded data removed]",
      "text/plain": [
       "<Figure size 720x432 with 1 Axes>"
      ]
     },
     "metadata": {
      "needs_background": "light"
     },
     "output_type": "display_data"
    }
   ],
   "source": [
    "crime_highest = df[df.agency_jurisdiction =='Atlanta, GA'][['homicides_percapita','rapes_percapita','report_year','robberies_percapita',\n",
    "                                                            'assaults_percapita','crimes_percapita',]].groupby('report_year').mean()\n",
    "crime_highest.head()\n",
    "crime_highest.plot(kind='area', stacked=True, rot=45, figsize=(10,6))\n",
    "plt.title('\\n Figure 1. The homicide rate for the city of \"Atlanta, GA\" for the entire period\\n', size=20)\n",
    "plt.ylabel('Mean Crime rate', size=15)\n",
    "plt.xlabel('Report year from 1975 to 2015 based on the entire data', size=15)\n",
    "plt.legend(loc='upper right',title='Crimes');\n"
   ]
  },
  {
   "cell_type": "markdown",
   "metadata": {},
   "source": [
    "From figure 1, it shows crimes_percapita, robberies_percapita, assaults_percapita, rapes_percapita, and homicides_percapita for Atlanta, GA from 1975 to 2015. We can see that all crime areas have increased until 1990 just under 15 years, then started continuously decreasing. Atlanta city was chosen because it is the top crime populated area over cumulatively.  \n",
    "\n",
    "You can see rate of decrease or increase changes for about 2 to 3 years, and there will be a negative change. Also, since the homicides_percapita and rapes_percapita rates are much lower than the rest, the graph doesn't show a good representation. To better understand those changes, we'll look at the rates of homicides_percapita later in the \n"
   ]
  },
  {
   "cell_type": "code",
   "execution_count": 7,
   "metadata": {},
   "outputs": [
    {
     "name": "stdout",
     "output_type": "stream",
     "text": [
      "\t Total means \n",
      " population             795698.089130\n",
      "crimes_percapita         1093.049810\n",
      "homicides_percapita        15.372812\n",
      "dtype: float64\n"
     ]
    }
   ],
   "source": [
    "total_means =df[['population', 'crimes_percapita', 'homicides_percapita']].mean()\n",
    "print(\"\\t Total means \\n {}\".format(total_means))"
   ]
  },
  {
   "cell_type": "markdown",
   "metadata": {},
   "source": [
    "To prove our analysis, we're going to use the \"homicides_percapita\" and breaking the data for 20 years each. The methods used to select the samples are described next in the Methodology section in detail. \n",
    "\n",
    "In today’s media coverage, it feels like crimes are high in US. However it’s possible that crimes may not be increasing overall, except the momentary uprising from some cities may portray it to be. In order to prove that hypothesis, we'll look at highest crime rates, sample of individual cites with increasing crime rates and compare it to population size, and finally test the theory with p-Value and t-test for bias. For this, we'll be looking at two randomly selected samples of 10 Agency Jurisdictions."
   ]
  },
  {
   "cell_type": "markdown",
   "metadata": {},
   "source": [
    "## 3.0 Methodology <a name=\"3.0_Methodology\"/><a>    "
   ]
  },
  {
   "cell_type": "markdown",
   "metadata": {},
   "source": [
    "First, lets get a percentage of the populatino to crime over the report period of time to see the progresion. If we know, the overall crime rates increasing, then we'll see what specific crimes are pulling the weight and vise versa. In order to do that, lets take samples of the data and see how the sample Agency Jurisditions data populates accros time."
   ]
  },
  {
   "cell_type": "markdown",
   "metadata": {},
   "source": [
    "Now, let’s pick the samples from the percapita reports 'crimes_percapita','homicides_percapita' allong with 'report_year'and 'agency_jurisdiction. The last two columns are important because, we can get time and location data."
   ]
  },
  {
   "cell_type": "code",
   "execution_count": 8,
   "metadata": {},
   "outputs": [
    {
     "name": "stdout",
     "output_type": "stream",
     "text": [
      "Sample 1 sample data 21\n",
      "Sample 2 sample data 21\n"
     ]
    },
    {
     "data": {
      "text/html": [
       "<div>\n",
       "<style scoped>\n",
       "    .dataframe tbody tr th:only-of-type {\n",
       "        vertical-align: middle;\n",
       "    }\n",
       "\n",
       "    .dataframe tbody tr th {\n",
       "        vertical-align: top;\n",
       "    }\n",
       "\n",
       "    .dataframe thead th {\n",
       "        text-align: right;\n",
       "    }\n",
       "</style>\n",
       "<table border=\"1\" class=\"dataframe\">\n",
       "  <thead>\n",
       "    <tr style=\"text-align: right;\">\n",
       "      <th></th>\n",
       "      <th>population</th>\n",
       "      <th>homicides_percapita</th>\n",
       "    </tr>\n",
       "    <tr>\n",
       "      <th>report_year</th>\n",
       "      <th></th>\n",
       "      <th></th>\n",
       "    </tr>\n",
       "  </thead>\n",
       "  <tbody>\n",
       "    <tr>\n",
       "      <th>1975</th>\n",
       "      <td>706629.597015</td>\n",
       "      <td>16.618824</td>\n",
       "    </tr>\n",
       "    <tr>\n",
       "      <th>1976</th>\n",
       "      <td>706297.985075</td>\n",
       "      <td>14.577206</td>\n",
       "    </tr>\n",
       "    <tr>\n",
       "      <th>1977</th>\n",
       "      <td>706907.134328</td>\n",
       "      <td>15.244118</td>\n",
       "    </tr>\n",
       "    <tr>\n",
       "      <th>1978</th>\n",
       "      <td>700319.208955</td>\n",
       "      <td>15.912206</td>\n",
       "    </tr>\n",
       "    <tr>\n",
       "      <th>1979</th>\n",
       "      <td>700611.910448</td>\n",
       "      <td>17.971765</td>\n",
       "    </tr>\n",
       "  </tbody>\n",
       "</table>\n",
       "</div>"
      ],
      "text/plain": [
       "                population  homicides_percapita\n",
       "report_year                                    \n",
       "1975         706629.597015            16.618824\n",
       "1976         706297.985075            14.577206\n",
       "1977         706907.134328            15.244118\n",
       "1978         700319.208955            15.912206\n",
       "1979         700611.910448            17.971765"
      ]
     },
     "execution_count": 8,
     "metadata": {},
     "output_type": "execute_result"
    }
   ],
   "source": [
    "sample1_mean = df[df.report_year <= 1995].groupby('report_year')[['agency_jurisdiction',\n",
    "                                      'population','homicides_percapita']].mean()\n",
    "sample2_mean = df[df.report_year >= 1995].groupby('report_year')[['agency_jurisdiction','population',\n",
    "                                            'homicides_percapita']].mean()\n",
    "\n",
    "print('Sample 1 sample data', len(sample1_mean))\n",
    "print('Sample 2 sample data', len(sample2_mean))\n",
    "sample1_mean.head(5)"
   ]
  },
  {
   "cell_type": "markdown",
   "metadata": {},
   "source": [
    "Now that we have samples of the dataset, let’s see how the mean homicide_percapita is populated across the dataset. Fig 2 at the bottom show red plot for the 1st 20 years and green plot for the 2nd 20 years. The colors are also representation of increasing (red, bad) and decreasing (green, good) respectively."
   ]
  },
  {
   "cell_type": "code",
   "execution_count": 9,
   "metadata": {},
   "outputs": [
    {
     "data": {
      "image/png": "[encoded data removed]",
      "text/plain": [
       "<Figure size 720x432 with 1 Axes>"
      ]
     },
     "metadata": {
      "needs_background": "light"
     },
     "output_type": "display_data"
    }
   ],
   "source": [
    "fig = plt.figure(figsize=(10,6))\n",
    "ax1 = plt.plot( sample1_mean[\"homicides_percapita\"], color='red')\n",
    "plt.title('Fig 2. Homicide_percapita rate for the entire dataset \\n', size=15)\n",
    "ax2 = plt.plot(sample2_mean[\"homicides_percapita\"], color='green');\n",
    "plt.xlabel('Years report taken from 1975 to 2015', size=15)\n",
    "plt.ylabel('Means of Homicides_percapita rate', size=15);"
   ]
  },
  {
   "cell_type": "markdown",
   "metadata": {},
   "source": [
    "The idea here is that, the population mean should decrease except in some cities. The two samples should have fairly close mean value. We can't say the same about rate but means should stay consistent.  The above two area under the curve graphs show, homicides_percapita increasing for the first 20 years (sample1) and decreasing for the 2nd 20 years (sample2). The outcome of these graphs do show crime is going down."
   ]
  },
  {
   "cell_type": "markdown",
   "metadata": {},
   "source": [
    "## 4.0 Evaluation <a name=\"4.0_Evaluation\"/><a> "
   ]
  },
  {
   "cell_type": "markdown",
   "metadata": {},
   "source": [
    "Next, we then look hypothesis testing using p-values and t-test evaluation. The first step is to re-emphasize the hypothesis and setup null and alternative testing rules. The hypothesis testing would look like this, \n",
    "Assumption. 1st 20 years == 1975 to 1995, and 2nd 20 years == 1996 to 2015\n",
    "\n",
    "Testing method : Two tailed ttest\n",
    "\n",
    "Null Hypothesis. The crime rate for the 1st 20 years = The crime rate for the second 20 years\n",
    "\n",
    "Alternative Hypothesis: The crime rate for the 1st 20 years is != The crime rate for the 2nd 20 years"
   ]
  },
  {
   "cell_type": "code",
   "execution_count": 10,
   "metadata": {},
   "outputs": [
    {
     "name": "stdout",
     "output_type": "stream",
     "text": [
      "Mean of Homicides for the 1st 20 years 17.73484604289477\n",
      "Mean of Homicides for the 2nd 20 years 13.221994465180327\n",
      "\n",
      " Now lets compute the p-values & t-tests\n",
      "\n"
     ]
    },
    {
     "data": {
      "text/plain": [
       "Ttest_indResult(statistic=-0.10236828679699213, pvalue=0.9278035844797038)"
      ]
     },
     "execution_count": 10,
     "metadata": {},
     "output_type": "execute_result"
    }
   ],
   "source": [
    "#here we compute the p-values in order to accept or fail to regect the null hyphothesis\n",
    "print(\"Mean of Homicides for the 1st 20 years {}\".format(sample1_mean[\"homicides_percapita\"].mean()))\n",
    "print(\"Mean of Homicides for the 2nd 20 years {}\".format(sample2_mean[\"homicides_percapita\"].mean()))\n",
    "\n",
    "\n",
    "print('\\n Now lets compute the p-values & t-tests\\n')\n",
    "# Are the test and control groups significantly different?\n",
    "stats.ttest_ind(sample1_mean.mean(),   sample2_mean.mean())"
   ]
  },
  {
   "cell_type": "markdown",
   "metadata": {},
   "source": [
    "For sample1, the p-value shows 0.9 which is significant to the mean"
   ]
  },
  {
   "cell_type": "code",
   "execution_count": 11,
   "metadata": {},
   "outputs": [
    {
     "name": "stdout",
     "output_type": "stream",
     "text": [
      "The t-test for the Alternative Hypothesis\n"
     ]
    },
    {
     "data": {
      "text/plain": [
       "Ttest_indResult(statistic=-0.10236828679699213, pvalue=0.9279755880253486)"
      ]
     },
     "execution_count": 11,
     "metadata": {},
     "output_type": "execute_result"
    }
   ],
   "source": [
    "print(\"The t-test for the Alternative Hypothesis\")\n",
    "real_t_score = stats.ttest_ind(sample1_mean.mean(),   sample2_mean.mean(), equal_var=False)\n",
    "real_t_score"
   ]
  },
  {
   "cell_type": "markdown",
   "metadata": {},
   "source": [
    "We can see that, the __t-test overestimates__ p-values for unequal variances"
   ]
  },
  {
   "cell_type": "code",
   "execution_count": 12,
   "metadata": {},
   "outputs": [
    {
     "data": {
      "text/plain": [
       "0.5360122059873257"
      ]
     },
     "execution_count": 12,
     "metadata": {},
     "output_type": "execute_result"
    }
   ],
   "source": [
    "real_p_value = 1 - real_t_score.pvalue/2\n",
    "real_p_value"
   ]
  },
  {
   "cell_type": "markdown",
   "metadata": {},
   "source": [
    "The ttest p-value is p=0.536 which is greater than 0.05. That makes this ttest significant and we fail to reject he null hypothesis.\n",
    "\n",
    "So what does this mean for our hypothesis, is crime rate really decreasing in America? The answer is not that simple to answer \"yes' or 'no'. However based on our homicide_percapita analysis, we will keep the null hypothesis with understanding that we have not proved it to be true beyond doubt. Furthermore, there is a statistical indication of decreasing crime rate from early 1990's till now. It’s not a drastic change but continuous decrease and a clear sign decrease for the 2nd 20 years. Keep in mind the rate at which the crimes increasing and decreasing is equal to each other. "
   ]
  },
  {
   "cell_type": "markdown",
   "metadata": {},
   "source": [
    "## 5.0 Conclusion & Future Improvements <a name=\"5.0_Conclusion_&_Future_Improvements\"/><a> "
   ]
  },
  {
   "cell_type": "markdown",
   "metadata": {},
   "source": [
    "As we wrap up this report, the hypothesis we started with is that, the real crime rate is going down across us based on the data collected from keggle. All though some cities may experience higher crime rate for a period of time, like the City of Atlanta shown in Fig 1, the rate at which crime is moving seems to be on the decline for the 2nd 20 years. The data we used shows that the crime rate is changing at equial rate. \n",
    "\n",
    "For future improvements, gathering more data from other sources to support the hypothesis would be great. It will help build the confidence level much greater.\n",
    "\n"
   ]
  },
  {
   "cell_type": "markdown",
   "metadata": {},
   "source": [
    "## References  <a name=\"References\"/><a>\n",
    "\n",
    "1. Project, T. M. (2017, February 10). Crime in Context, 1975-2015. Retrieved from https://www.kaggle.com/marshallproject/crime-rates"
   ]
  }
 ],
 "metadata": {
  "kernelspec": {
   "display_name": "Python 3",
   "language": "python",
   "name": "python3"
  },
  "language_info": {
   "codemirror_mode": {
    "name": "ipython",
    "version": 3
   },
   "file_extension": ".py",
   "mimetype": "text/x-python",
   "name": "python",
   "nbconvert_exporter": "python",
   "pygments_lexer": "ipython3",
   "version": "3.6.0"
  }
 },
 "nbformat": 4,
 "nbformat_minor": 4
}
